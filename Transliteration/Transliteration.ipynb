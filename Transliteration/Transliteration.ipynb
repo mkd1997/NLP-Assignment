{
 "cells": [
  {
   "cell_type": "markdown",
   "metadata": {},
   "source": [
    "This is a transliteration scheme designed by me for tranliterating English text to Gujarati text."
   ]
  },
  {
   "cell_type": "code",
   "execution_count": 1,
   "metadata": {},
   "outputs": [],
   "source": [
    "consonant_list = ['M', 'N', 'V', 'H', 'T']\n",
    "vowel_list = ['A', 'E', 'I', 'O', 'U']\n",
    "\n",
    "consonant_map = {\n",
    "    'M':'\\u0AAE',\n",
    "    'N':'\\u0AA8',\n",
    "    'V':'\\u0AB5',\n",
    "    'H':'\\u0AB9',\n",
    "    'T':'\\u0AA4'\n",
    "}\n",
    "\n",
    "independent_vowel_map = {\n",
    "    'A':'\\u0A85',\n",
    "    'AA':'\\u0A86',\n",
    "    'I':'\\u0A87',\n",
    "    'II':'\\0A88',\n",
    "    'U':'\\u0A89',\n",
    "    'UU':'\\u0A8A'\n",
    "}\n",
    "\n",
    "dependent_vowel_map = {\n",
    "    '\\u0A85':'',\n",
    "    '\\u0A86':'\\u0ABE',\n",
    "    '\\u0A87':'\\u0ABF',\n",
    "    '\\u0A88':'\\u0AC0'\n",
    "}"
   ]
  },
  {
   "cell_type": "code",
   "execution_count": 2,
   "metadata": {},
   "outputs": [],
   "source": [
    "def check_h_sound(transliterated_word):    \n",
    "    i = 1\n",
    "    while(i < len(transliterated_word)):        \n",
    "        if transliterated_word[i] == '\\u0AB9': # H\n",
    "            \n",
    "            prefix = transliterated_word[:(i - 1)]            \n",
    "            suffix = transliterated_word[(i + 1):]\n",
    "            middle = chr(ord(transliterated_word[i - 1]) + 1)\n",
    "            \n",
    "            transliterated_word = prefix + middle + suffix\n",
    "            word_len = len(transliterated_word)\n",
    "            i = i - 1\n",
    "        i = i + 1\n",
    "    return transliterated_word"
   ]
  },
  {
   "cell_type": "code",
   "execution_count": 3,
   "metadata": {},
   "outputs": [],
   "source": [
    "def update_maatras(transliterated_word):\n",
    "    i = 1\n",
    "    while(i < len(transliterated_word)):        \n",
    "        if(transliterated_word[i] in independent_vowel_map.values()):\n",
    "            if(transliterated_word[i - 1] == transliterated_word[i]):\n",
    "                \n",
    "                prefix = transliterated_word[:(i - 1)]\n",
    "                suffix = transliterated_word[(i + 1):]\n",
    "                middle = chr(ord(transliterated_word[i]) + 1)\n",
    "                \n",
    "                transliterated_word = prefix + middle + suffix\n",
    "                i = i - 1\n",
    "        i = i + 1\n",
    "    return transliterated_word"
   ]
  },
  {
   "cell_type": "code",
   "execution_count": 6,
   "metadata": {},
   "outputs": [],
   "source": [
    "def convert_to_dependent_vowels(transliterated_word):\n",
    "    i = 1\n",
    "    while(i < len(transliterated_word)):\n",
    "        print(list(transliterated_word), end = \" \")\n",
    "        if(transliterated_word[i] in independent_vowel_map.values()):\n",
    "            prefix = transliterated_word[:(i - 1)]\n",
    "            suffix = transliterated_word[(i + 1):]\n",
    "            middle = dependent_vowel_map.get(transliterated_word[i])\n",
    "            \n",
    "            transliterated_word = prefix + middle + suffix\n",
    "        i = i + 1\n",
    "    return transliterated_word"
   ]
  },
  {
   "cell_type": "code",
   "execution_count": 7,
   "metadata": {},
   "outputs": [
    {
     "name": "stdout",
     "output_type": "stream",
     "text": [
      "['મ', 'આ', 'ન', 'અ', 'વ'] ['ા', 'ન', 'અ', 'વ'] ાવ\n",
      "['મ', 'આ', 'ન', 'અ', 'થ'] ['ા', 'ન', 'અ', 'થ'] ાથ\n"
     ]
    }
   ],
   "source": [
    "english_word_list = ['mAAnAv', 'maanath']\n",
    "\n",
    "# initiaize transliterated word list\n",
    "gujarati_words = []\n",
    "\n",
    "# loop through the words\n",
    "for eng_word in english_word_list:\n",
    "    eng_word = eng_word.upper()\n",
    "    \n",
    "    # drop e if it occurs at the end\n",
    "    if ('E' == eng_word[len(eng_word) - 1]):\n",
    "        eng_word = eng_word[:-1]\n",
    "        \n",
    "    # TODO: drop all silent characters\n",
    "    transliterated_word = ''    \n",
    "    # get consonant and independent vowel representation of word    \n",
    "    for letter in list(eng_word):        \n",
    "        if letter in consonant_list:\n",
    "            transliterated_word += consonant_map.get(letter)\n",
    "        else:\n",
    "            transliterated_word += independent_vowel_map.get(letter)\n",
    "\n",
    "    # update consonants with h sound\n",
    "    transliterated_word = check_h_sound(transliterated_word)\n",
    "    # print(transliterated_word)\n",
    "    # update maatras\n",
    "    transliterated_word = update_maatras(transliterated_word)\n",
    "    \n",
    "    # convert to dependent vowels\n",
    "    transliterated_word = convert_to_dependent_vowels(transliterated_word)\n",
    "    \n",
    "    print(transliterated_word)\n",
    "        "
   ]
  },
  {
   "cell_type": "code",
   "execution_count": 17,
   "metadata": {},
   "outputs": [
    {
     "name": "stdout",
     "output_type": "stream",
     "text": [
      "શ્રિયા\n"
     ]
    }
   ],
   "source": [
    "word = '\\u0AB6' + '\\u0ACD' + '\\u0AB0' + '\\u0ABF' + '\\u0AAF' + '\\u0ABE'\n",
    "print(word)"
   ]
  },
  {
   "cell_type": "code",
   "execution_count": 18,
   "metadata": {},
   "outputs": [
    {
     "data": {
      "text/plain": [
       "''"
      ]
     },
     "execution_count": 18,
     "metadata": {},
     "output_type": "execute_result"
    }
   ],
   "source": [
    "word = 'made'\n",
    "word = word[len(word) - 1]\n",
    "word[:0]"
   ]
  },
  {
   "cell_type": "code",
   "execution_count": 19,
   "metadata": {},
   "outputs": [
    {
     "data": {
      "text/plain": [
       "'થ'"
      ]
     },
     "execution_count": 19,
     "metadata": {},
     "output_type": "execute_result"
    }
   ],
   "source": [
    "letter = '\\u0aa4'\n",
    "letter = chr(ord(letter) + 1)\n",
    "letter"
   ]
  },
  {
   "cell_type": "code",
   "execution_count": null,
   "metadata": {},
   "outputs": [],
   "source": []
  }
 ],
 "metadata": {
  "kernelspec": {
   "display_name": "Python 3",
   "language": "python",
   "name": "python3"
  },
  "language_info": {
   "codemirror_mode": {
    "name": "ipython",
    "version": 3
   },
   "file_extension": ".py",
   "mimetype": "text/x-python",
   "name": "python",
   "nbconvert_exporter": "python",
   "pygments_lexer": "ipython3",
   "version": "3.6.9"
  }
 },
 "nbformat": 4,
 "nbformat_minor": 2
}
