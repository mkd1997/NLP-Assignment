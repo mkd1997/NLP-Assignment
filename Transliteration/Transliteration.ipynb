{
 "cells": [
  {
   "cell_type": "markdown",
   "metadata": {},
   "source": [
    "This is a transliteration scheme designed by me for tranliterating English text to Gujarati text."
   ]
  },
  {
   "cell_type": "code",
   "execution_count": 52,
   "metadata": {},
   "outputs": [],
   "source": [
    "consonant_list = ['M', 'N', 'V', 'H', 'T']\n",
    "vowel_list = ['A', 'E', 'I', 'O', 'U']\n",
    "\n",
    "consonant_map = {\n",
    "    'M':'\\u0AAE',\n",
    "    'N':'\\u0AA8',\n",
    "    'V':'\\u0AB5',\n",
    "    'H':'\\u0AB9',\n",
    "    'T':'\\u0AA4'\n",
    "}\n",
    "\n",
    "independent_vowel_map = {\n",
    "    'A':'\\u0A85',\n",
    "    'AA':'\\u0A86',\n",
    "    'I':'\\u0A87',\n",
    "    'II':'\\0A88',\n",
    "    'U':'\\u0A89',\n",
    "    'UU':'\\u0A8A'\n",
    "}\n",
    "\n",
    "dependent_vowel_map = {\n",
    "    'AA':'\\u0ABE',\n",
    "    'I':'\\u0ABF',\n",
    "    'II':'\\u0AC0'\n",
    "}"
   ]
  },
  {
   "cell_type": "code",
   "execution_count": 53,
   "metadata": {},
   "outputs": [],
   "source": [
    "def check_h_sound(transliterated_word):    \n",
    "    word_len = len(transliterated_word)\n",
    "    for i in range(1, word_len):        \n",
    "        if transliterated_word[i] == '\\u0AB9': # H\n",
    "            prefix = transliterated_word[:(i - 1)]            \n",
    "            suffix = transliterated_word[(i + 1):]\n",
    "            middle = ''\n",
    "            if(transliterated_word[i - 1] == '\\u0AA4'):\n",
    "                middle = '\\u0AA5'\n",
    "            transliterated_word = prefix + middle + suffix\n",
    "            word_len = len(transliterated_word)\n",
    "#         print(transliterated_word, end = \" \")\n",
    "    return transliterated_word"
   ]
  },
  {
   "cell_type": "code",
   "execution_count": 54,
   "metadata": {},
   "outputs": [
    {
     "name": "stdout",
     "output_type": "stream",
     "text": [
      "મઅઅનઅવ\n",
      "મઅઅનઅથ\n"
     ]
    }
   ],
   "source": [
    "english_word_list = ['mAAnAv', 'maanath']\n",
    "\n",
    "# initiaize transliterated word list\n",
    "gujarati_words = []\n",
    "\n",
    "# loop through the words\n",
    "for eng_word in english_word_list:\n",
    "    eng_word = eng_word.upper()\n",
    "    \n",
    "    # drop e if it occurs at the end\n",
    "    if ('E' == eng_word[len(eng_word) - 1]):\n",
    "        eng_word = eng_word[:-1]\n",
    "        \n",
    "    # TODO: drop all silent characters\n",
    "    transliterated_word = ''    \n",
    "    # get consonant and independent vowel representation of word    \n",
    "    for letter in list(eng_word):        \n",
    "        if letter in consonant_list:\n",
    "            transliterated_word += consonant_map.get(letter)\n",
    "        else:\n",
    "            transliterated_word += independent_vowel_map.get(letter)\n",
    "\n",
    "    transliterated_word = check_h_sound(transliterated_word)\n",
    "    print(transliterated_word)\n",
    "        "
   ]
  },
  {
   "cell_type": "code",
   "execution_count": 55,
   "metadata": {},
   "outputs": [
    {
     "name": "stdout",
     "output_type": "stream",
     "text": [
      "શ્રીયા\n"
     ]
    }
   ],
   "source": [
    "word = '\\u0AB6' + '\\u0ACD' + '\\u0AB0' + '\\u0AC0' + '\\u0AAF' + '\\u0ABE'\n",
    "print(word)"
   ]
  },
  {
   "cell_type": "code",
   "execution_count": 56,
   "metadata": {},
   "outputs": [
    {
     "data": {
      "text/plain": [
       "''"
      ]
     },
     "execution_count": 56,
     "metadata": {},
     "output_type": "execute_result"
    }
   ],
   "source": [
    "word = 'made'\n",
    "word = word[len(word) - 1]\n",
    "word[:0]"
   ]
  },
  {
   "cell_type": "code",
   "execution_count": null,
   "metadata": {},
   "outputs": [],
   "source": []
  }
 ],
 "metadata": {
  "kernelspec": {
   "display_name": "Python 3",
   "language": "python",
   "name": "python3"
  },
  "language_info": {
   "codemirror_mode": {
    "name": "ipython",
    "version": 3
   },
   "file_extension": ".py",
   "mimetype": "text/x-python",
   "name": "python",
   "nbconvert_exporter": "python",
   "pygments_lexer": "ipython3",
   "version": "3.6.9"
  }
 },
 "nbformat": 4,
 "nbformat_minor": 2
}
