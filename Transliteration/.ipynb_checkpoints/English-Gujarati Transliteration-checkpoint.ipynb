{
 "cells": [
  {
   "cell_type": "markdown",
   "metadata": {},
   "source": [
    "# English-Gujarati Transliteration\n",
    "\n",
    "Transliteration is the process of transferring a word from the alphabet of one language to another. Here, I, Manav Desai aim to transliterate English words in Gujarati. \n",
    "\n",
    "The main challenge in this is fact that English words do not contain pronunciation information by default whereas Gujarati is written in the same way as it is spoken.\n",
    "\n",
    "This is a transliteration scheme designed by me for tranliterating English words to Gujarati text. I have designed a parser which parses English words and prints them after transliterating them. The parser still does not work for words with all sounds and there is scope for improvement in the same."
   ]
  },
  {
   "cell_type": "markdown",
   "metadata": {},
   "source": [
    "## Method\n",
    "\n",
    "First, all the major sounds in English sounds are listed and mapped to corresponding Gujarati letters. We also note the following:\n",
    "- Sounds with 'h' in them (like kha, gha, tha) haven't been added and only the base sounds (like ka, ga, ta) have been added.\n",
    "- h has been added as a vowel as it becomes a sound rather than a letter in Gujarati."
   ]
  },
  {
   "cell_type": "code",
   "execution_count": 8,
   "metadata": {},
   "outputs": [],
   "source": [
    "consonant_list = ['M', 'N', 'V', 'T', 'S', 'R', 'Y', 'D', 'L', 'G', 'K', 'C', 'J', 'P', 'B']\n",
    "vowel_list = ['A', 'E', 'I', 'O', 'U', 'H']\n",
    "\n",
    "half_letter = '\\u0ACD'\n",
    "\n",
    "consonant_map = {\n",
    "    'M':'\\u0AAE',\n",
    "    'N':'\\u0AA8',\n",
    "    'V':'\\u0AB5',\n",
    "    'T':'\\u0AA4',\n",
    "    'S':'\\u0AB8',\n",
    "    'R':'\\u0AB0',\n",
    "    'Y':'\\u0AAF',\n",
    "    'D':'\\u0AA6',\n",
    "    'L':'\\u0AB2',\n",
    "    'G':'\\u0A97',\n",
    "    'K':'\\u0A95',\n",
    "    'C':'\\u0A9A',\n",
    "    'J':'\\u0A9C',\n",
    "    'P':'\\u0AAA',\n",
    "    'B':'\\u0AAD'\n",
    "}\n",
    "\n",
    "independent_vowel_map = {\n",
    "    'A':'\\u0A85',\n",
    "    'AA':'\\u0A86',\n",
    "    'I':'\\u0A87',\n",
    "    'II':'\\u0A88',\n",
    "    'U':'\\u0A89',\n",
    "    'UU':'\\u0A8A',\n",
    "    'H':'\\u0AB9',\n",
    "    'E':'\\u0A8F',\n",
    "    'O':'\\u0A93'\n",
    "}\n",
    "\n",
    "dependent_vowel_map = {\n",
    "    '\\u0A85':'',\n",
    "    '\\u0A86':'\\u0ABE',\n",
    "    '\\u0A87':'\\u0ABF',\n",
    "    '\\u0A88':'\\u0AC0',\n",
    "    '\\u0A89':'\\u0AC1',\n",
    "    '\\u0A8A':'\\u0AC2',\n",
    "    '\\u0A8F':'\\u0AC7',\n",
    "    '\\u0A93':'\\u0ACB'\n",
    "}"
   ]
  },
  {
   "cell_type": "markdown",
   "metadata": {},
   "source": [
    "This function checks for h sounds in the word and updates the consonants accordingly. On observing Unicode for Gujarati letters, we observe that, except sa, all h sounding letters are just after their corresponding base sounds. For eg. tha comes just after ta."
   ]
  },
  {
   "cell_type": "code",
   "execution_count": 9,
   "metadata": {},
   "outputs": [],
   "source": [
    "def check_h_sound(transliterated_word):    \n",
    "    i = 1\n",
    "    while(i < len(transliterated_word)):\n",
    "        if transliterated_word[i] == '\\u0AB9': # H\n",
    "            \n",
    "            prefix = transliterated_word[:(i - 1)]            \n",
    "            suffix = transliterated_word[(i + 1):]\n",
    "            \n",
    "            if(transliterated_word[i - 1] == '\\u0AB8'):\n",
    "                middle = '\\u0AB6'\n",
    "            else:\n",
    "                middle = chr(ord(transliterated_word[i - 1]) + 1)\n",
    "            \n",
    "            transliterated_word = prefix + middle + suffix\n",
    "            word_len = len(transliterated_word)\n",
    "            i = i - 1\n",
    "        i = i + 1\n",
    "    return transliterated_word"
   ]
  },
  {
   "cell_type": "markdown",
   "metadata": {},
   "source": [
    "It is observed that whenever we have 2 consecutive consonants in English language, the transliterated word will have a half letter and a complete letter. This function enters the viram sign to convert a complete letter into half letter."
   ]
  },
  {
   "cell_type": "code",
   "execution_count": 10,
   "metadata": {},
   "outputs": [],
   "source": [
    "def insert_half_letters(transliterated_word):\n",
    "    i = 1\n",
    "    while(i < len(transliterated_word)):\n",
    "        curr_unicode = ord(transliterated_word[i])\n",
    "        prev_unicode = ord(transliterated_word[i - 1])\n",
    "        if(((curr_unicode >= 0x0A95) and (curr_unicode <= 0x0AB9)) and ((prev_unicode >= 0x0A95) and (prev_unicode <= 0x0AB9))):\n",
    "            prefix = transliterated_word[:(i - 1)]\n",
    "            suffix = transliterated_word[(i + 1):]\n",
    "            middle = transliterated_word[i - 1] + half_letter + transliterated_word[i]\n",
    "            \n",
    "            transliterated_word = prefix + middle + suffix\n",
    "            i = i + 2\n",
    "        i = i + 1\n",
    "\n",
    "    return transliterated_word"
   ]
  },
  {
   "cell_type": "markdown",
   "metadata": {},
   "source": [
    "The longer maatras in Gujarati are required when we have ii, uu, aa in English language. This function takes care of this. It does this by converting 2 consecutive short maatras into a longer maatra."
   ]
  },
  {
   "cell_type": "code",
   "execution_count": 11,
   "metadata": {},
   "outputs": [],
   "source": [
    "def update_maatras(transliterated_word):\n",
    "    i = 1\n",
    "    while(i < len(transliterated_word)):\n",
    "        if(transliterated_word[i] in independent_vowel_map.values()):\n",
    "            if(transliterated_word[i - 1] == transliterated_word[i]):\n",
    "                \n",
    "                prefix = transliterated_word[:(i - 1)]\n",
    "                suffix = transliterated_word[(i + 1):]\n",
    "                middle = chr(ord(transliterated_word[i]) + 1)\n",
    "                \n",
    "                transliterated_word = prefix + middle + suffix\n",
    "                i = i - 1\n",
    "        i = i + 1\n",
    "    return transliterated_word"
   ]
  },
  {
   "cell_type": "markdown",
   "metadata": {},
   "source": [
    "Except the case when the Gujarati word starts with a vowel, the vowels are represented as symbols (dependent vowels) in conjunction to the consonants. This function changes the independent vowels to dependent vowels."
   ]
  },
  {
   "cell_type": "code",
   "execution_count": 12,
   "metadata": {},
   "outputs": [],
   "source": [
    "def convert_to_dependent_vowels(transliterated_word):\n",
    "    i = 1\n",
    "    while(i < len(transliterated_word)):\n",
    "        if(transliterated_word[i] in independent_vowel_map.values()):\n",
    "            prefix = transliterated_word[:i]\n",
    "            suffix = transliterated_word[(i + 1):]\n",
    "            middle = dependent_vowel_map.get(transliterated_word[i])\n",
    "            \n",
    "            transliterated_word = prefix + middle + suffix\n",
    "        i = i + 1\n",
    "    return transliterated_word"
   ]
  },
  {
   "cell_type": "markdown",
   "metadata": {},
   "source": [
    "The transliteration algorithm transliterates the english word to Gujarati text by parsing in multiple passes. As a preprocessing step, the word is converted to upper case. This does not alter the transliterated word as Gujarati does not differentiate between upper and lower case letters. Also, we remove the letter E if it comes at the end as it is almost invariably silent. The details of each pass are as follows:\n",
    "\n",
    "1. Replace the English letters with the corresponding Gujarati consonants and vowels. We can now discard the English word.\n",
    "2. Update the consonants with h sound in transliterated word.\n",
    "3. Update half letters by adding Virama at appropriate places.\n",
    "4. Add longer maatras wherever required.\n",
    "5. Convert independent vowels to dependent vowels."
   ]
  },
  {
   "cell_type": "code",
   "execution_count": 13,
   "metadata": {},
   "outputs": [
    {
     "name": "stdout",
     "output_type": "stream",
     "text": [
      "MAANAV માનવ\n",
      "MAANATH માનથ\n",
      "MAANYATAA માન્યતા\n",
      "SHRIIMAAN શ્રીમાન\n",
      "DHRUVIN ધ્રુવિન\n",
      "DEVAANS દેવાન્સ\n",
      "VATSAL વત્સલ\n",
      "SORI સોરિ\n",
      "AGATYA અગત્ય\n"
     ]
    }
   ],
   "source": [
    "# list of English words to be transliterated\n",
    "# edit this list to check for other words\n",
    "english_word_list = ['mAAnAv', 'maanath', 'maanyataa', 'shriimaan', 'dhruvin', 'devAans', 'vatsal', 'SORI', 'agatya']\n",
    "\n",
    "# initiaize transliterated word list\n",
    "gujarati_words = []\n",
    "\n",
    "# loop through the words\n",
    "for eng_word in english_word_list:\n",
    "    eng_word = eng_word.upper()\n",
    "    \n",
    "    # drop e if it occurs at the end\n",
    "    if ('E' == eng_word[len(eng_word) - 1]):\n",
    "        eng_word = eng_word[:-1]        \n",
    "    \n",
    "    transliterated_word = ''    \n",
    "    \n",
    "    # get consonant and independent vowel representation of word\n",
    "    try:\n",
    "        for letter in list(eng_word):        \n",
    "            if letter in consonant_list:\n",
    "                transliterated_word += consonant_map.get(letter)\n",
    "            else:\n",
    "                transliterated_word += independent_vowel_map.get(letter)\n",
    "    \n",
    "    except TypeError:\n",
    "        print(letter)\n",
    "        break\n",
    "\n",
    "    # update consonants with h sound\n",
    "    transliterated_word = check_h_sound(transliterated_word)\n",
    "    \n",
    "    # handle half letters\n",
    "    transliterated_word = insert_half_letters(transliterated_word)\n",
    "\n",
    "    # update maatras\n",
    "    transliterated_word = update_maatras(transliterated_word)\n",
    "    \n",
    "    # convert to dependent vowels\n",
    "    transliterated_word = convert_to_dependent_vowels(transliterated_word)\n",
    "        \n",
    "    print(eng_word, transliterated_word)\n",
    "        "
   ]
  },
  {
   "cell_type": "code",
   "execution_count": null,
   "metadata": {},
   "outputs": [],
   "source": []
  }
 ],
 "metadata": {
  "kernelspec": {
   "display_name": "Python 3",
   "language": "python",
   "name": "python3"
  },
  "language_info": {
   "codemirror_mode": {
    "name": "ipython",
    "version": 3
   },
   "file_extension": ".py",
   "mimetype": "text/x-python",
   "name": "python",
   "nbconvert_exporter": "python",
   "pygments_lexer": "ipython3",
   "version": "3.6.9"
  }
 },
 "nbformat": 4,
 "nbformat_minor": 2
}
