{
 "cells": [
  {
   "cell_type": "markdown",
   "metadata": {},
   "source": [
    "This is a transliteration scheme designed by me to transliterate Gujarati text to Roman text. This process is called Romanization. Here, I use the International Alphabet of Sanskrit Transliteration (IAST) which maps various symbols of Devanagari script to symbols of Roman script. The IAST is a subset of ISO 15919."
   ]
  },
  {
   "cell_type": "code",
   "execution_count": 8,
   "metadata": {},
   "outputs": [],
   "source": [
    "iast_vowel_map = {\n",
    "    '\\u0a85':'a',\n",
    "    '\\u0a86':'ā',\n",
    "    '\\u0abe':'ā',\n",
    "    '\\u0a87':'i',\n",
    "    '\\u0abf':'i',\n",
    "    '\\u0A88':'ī',\n",
    "    '\\u0ac0':'ī',\n",
    "    '\\u0A89':'u',\n",
    "    '\\u0ac1':'u'\n",
    "}\n",
    "\n",
    "iast_consonant_map = {\n",
    "    '\\u0aae':'ma',\n",
    "    '\\u0aa8':'na',\n",
    "    '\\u0ab5':'va',\n",
    "    '\\u0ab6':'sha',\n",
    "    '\\u0ab0':'ra',\n",
    "    '\\u0aaf':'ya',\n",
    "    '\\u0aa4':'ta',\n",
    "    '\\u0a97':'ga'\n",
    "}"
   ]
  },
  {
   "cell_type": "code",
   "execution_count": 9,
   "metadata": {},
   "outputs": [
    {
     "name": "stdout",
     "output_type": "stream",
     "text": [
      "2 માનવ mānava\n",
      "2 શ્રીયા shrīyā\n",
      "2 માન્યતા mānyatā\n",
      "2 અગત્ય agatya\n"
     ]
    }
   ],
   "source": [
    "# test cases\n",
    "guj_word_list = ['માનવ', 'શ્રીયા', 'માન્યતા', 'અગત્ય']\n",
    "\n",
    "# mapping Devanagari symbols to Roman symbols\n",
    "for guj_word in guj_word_list:\n",
    "    \n",
    "    # initialize transliterated word\n",
    "    transliterated_word = ''\n",
    "    \n",
    "    # get list of letters\n",
    "    letter_list = list(guj_word)\n",
    "    \n",
    "    # loop over the list of Gujarati letters and add corresponding \n",
    "    # Roman letters to the transliterated word\n",
    "    i = 0\n",
    "    while(i < len(letter_list)):\n",
    "        \n",
    "        # remove a from last letter if virama is there\n",
    "        if(letter_list[i] == '\\u0acd'):\n",
    "            transliterated_word = transliterated_word[:-1]\n",
    "        else:   \n",
    "            try:\n",
    "                # add corresponding roman letter if gujarati consonant found\n",
    "                if(letter_list[i] in iast_consonant_map.keys()):\n",
    "                    transliterated_word += iast_consonant_map.get(letter_list[i])\n",
    "                else:\n",
    "                    # add appropriate roman sound letter if gujarati vowel found\n",
    "                    transliterated_word = transliterated_word[:-1]\n",
    "                    transliterated_word += iast_vowel_map.get(letter_list[i])\n",
    "            except TypeError:\n",
    "                print('1', letter_list[i])\n",
    "                break\n",
    "        i = i + 1\n",
    "    print('2', guj_word, transliterated_word)\n",
    "    "
   ]
  },
  {
   "cell_type": "code",
   "execution_count": null,
   "metadata": {},
   "outputs": [],
   "source": []
  }
 ],
 "metadata": {
  "kernelspec": {
   "display_name": "Python 3",
   "language": "python",
   "name": "python3"
  },
  "language_info": {
   "codemirror_mode": {
    "name": "ipython",
    "version": 3
   },
   "file_extension": ".py",
   "mimetype": "text/x-python",
   "name": "python",
   "nbconvert_exporter": "python",
   "pygments_lexer": "ipython3",
   "version": "3.6.9"
  }
 },
 "nbformat": 4,
 "nbformat_minor": 2
}
