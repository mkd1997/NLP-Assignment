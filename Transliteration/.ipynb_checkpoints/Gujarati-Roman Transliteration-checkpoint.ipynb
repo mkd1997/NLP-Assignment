{
 "cells": [
  {
   "cell_type": "markdown",
   "metadata": {},
   "source": [
    "# Gujarati-Roman Transliteration\n",
    "\n",
    "This is a transliteration scheme designed by me, Manav Desai to transliterate Gujarati text to Roman text. This process is called Romanization. Here, I use the International Alphabet of Sanskrit Transliteration (IAST) which maps various symbols of Devanagari script to symbols of Roman script. The IAST is a subset of ISO 15919."
   ]
  },
  {
   "cell_type": "markdown",
   "metadata": {},
   "source": [
    "## Method\n",
    "\n",
    "The mapping of Gujarati words to Roman letters is easier as Gujarati words already contain pronunciation information. Hence, transliteration of Gujarati words to Roman script can easily be done by character to character mapping."
   ]
  },
  {
   "cell_type": "code",
   "execution_count": 5,
   "metadata": {},
   "outputs": [],
   "source": [
    "iast_vowel_map = {\n",
    "    '\\u0a85':'a',\n",
    "    '\\u0a86':'ā',\n",
    "    '\\u0abe':'ā',\n",
    "    '\\u0a87':'i',\n",
    "    '\\u0abf':'i',\n",
    "    '\\u0A88':'ī',\n",
    "    '\\u0ac0':'ī',\n",
    "    '\\u0A89':'u',\n",
    "    '\\u0ac1':'u',\n",
    "    '\\u0a8a':'ū',\n",
    "    '\\u0ac2':'ū',\n",
    "    '\\u0A8F':'e',\n",
    "    '\\u0AC7':'e',\n",
    "    '\\u0A90':'ai',\n",
    "    '\\u0AC8':'ai',\n",
    "    '\\u0A93':'o',\n",
    "    '\\u0ACB':'o',\n",
    "    '\\u0A94':'au',    \n",
    "    '\\u0ACC':'au',\n",
    "}\n",
    "\n",
    "iast_consonant_map = {\n",
    "    '\\u0aae':'ma',\n",
    "    '\\u0aa8':'na',\n",
    "    '\\u0ab5':'va',\n",
    "    '\\u0ab6':'sha',\n",
    "    '\\u0ab0':'ra',\n",
    "    '\\u0aaf':'ya',\n",
    "    '\\u0aa4':'ta',\n",
    "    '\\u0a97':'ga',\n",
    "    '\\u0A95':'ka',\n",
    "    '\\u0A96':'kha',\n",
    "    '\\u0A98':'gha',\n",
    "    '\\u0A9A':'ca',\n",
    "    '\\u0A9B':'cha',\n",
    "    '\\u0A9C':'ja',\n",
    "    '\\u0A9D':'jha',\n",
    "    '\\u0AA4':'ta',\n",
    "    '\\u0AA5':'tha',\n",
    "    '\\u0AA6':'da',\n",
    "    '\\u0AA7':'dha',\n",
    "    '\\u0AAA':'pa',\n",
    "    '\\u0AAB':'pha',\n",
    "    '\\u0AAC':'ba',\n",
    "    '\\u0AAD':'bha',\n",
    "    '\\u0AB2':'la',\n",
    "    '\\u0AB8':'sa',\n",
    "    '\\u0AB9':'ha',    \n",
    "}"
   ]
  },
  {
   "cell_type": "markdown",
   "metadata": {},
   "source": [
    "This parser produces Roman transliteration of Gujarati words by simply parsing them once and replacing them with appropriate Roman characters from IAST mapping shown above."
   ]
  },
  {
   "cell_type": "code",
   "execution_count": 6,
   "metadata": {},
   "outputs": [
    {
     "name": "stdout",
     "output_type": "stream",
     "text": [
      "માનવ mānava\n",
      "શ્રીમાન shrīmāna\n",
      "માન્યતા mānyatā\n",
      "અગત્ય agatya\n"
     ]
    }
   ],
   "source": [
    "# list of English words to be transliterated\n",
    "# edit this list to check for other words\n",
    "guj_word_list = ['માનવ', 'શ્રીમાન', 'માન્યતા', 'અગત્ય']\n",
    "\n",
    "# mapping Devanagari symbols to Roman symbols\n",
    "for guj_word in guj_word_list:\n",
    "    \n",
    "    # initialize transliterated word\n",
    "    transliterated_word = ''\n",
    "    \n",
    "    # get list of letters\n",
    "    letter_list = list(guj_word)\n",
    "    \n",
    "    # loop over the list of Gujarati letters and add corresponding \n",
    "    # Roman letters to the transliterated word\n",
    "    i = 0\n",
    "    while(i < len(letter_list)):\n",
    "        \n",
    "        # remove a from last letter if virama is there\n",
    "        if(letter_list[i] == '\\u0acd'):\n",
    "            transliterated_word = transliterated_word[:-1]\n",
    "        else:   \n",
    "            try:\n",
    "                # add corresponding roman letter if gujarati consonant found\n",
    "                if(letter_list[i] in iast_consonant_map.keys()):\n",
    "                    transliterated_word += iast_consonant_map.get(letter_list[i])\n",
    "                else:\n",
    "                    # add appropriate roman sound letter if gujarati vowel found\n",
    "                    transliterated_word = transliterated_word[:-1]\n",
    "                    transliterated_word += iast_vowel_map.get(letter_list[i])\n",
    "            except TypeError:\n",
    "                print(letter_list[i])\n",
    "                break\n",
    "        i = i + 1\n",
    "    print(guj_word, transliterated_word)\n",
    "    "
   ]
  },
  {
   "cell_type": "code",
   "execution_count": null,
   "metadata": {},
   "outputs": [],
   "source": []
  }
 ],
 "metadata": {
  "kernelspec": {
   "display_name": "Python 3",
   "language": "python",
   "name": "python3"
  },
  "language_info": {
   "codemirror_mode": {
    "name": "ipython",
    "version": 3
   },
   "file_extension": ".py",
   "mimetype": "text/x-python",
   "name": "python",
   "nbconvert_exporter": "python",
   "pygments_lexer": "ipython3",
   "version": "3.6.9"
  }
 },
 "nbformat": 4,
 "nbformat_minor": 2
}
