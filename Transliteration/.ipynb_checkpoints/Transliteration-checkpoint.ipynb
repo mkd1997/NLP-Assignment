{
 "cells": [
  {
   "cell_type": "markdown",
   "metadata": {},
   "source": [
    "Images contain a lot of information. However, due to the encoding an compression techniques, many details become unperceivable to the human eye. We use image enhancement techniques to make these details perceivable to the human eye.\n",
    "\n",
    "Two techniques are explored in this notebook:\n",
    "    1. Whitening\n",
    "    2. Histogram Equalization    "
   ]
  },
  {
   "cell_type": "code",
   "execution_count": 18,
   "metadata": {},
   "outputs": [],
   "source": [
    "# all imports\n",
    "import cv2\n",
    "import numpy as np\n",
    "import matplotlib.pyplot as plt\n",
    "%matplotlib inline\n",
    "\n",
    "FIG_SIZE = (5,5)"
   ]
  },
  {
   "cell_type": "markdown",
   "metadata": {},
   "source": [
    "## Whitening\n",
    "Image whitening can be thought of as image normalization. This helps in increasing the overall brightness of the image. Thus, the image, which previously was spanning only a small interval of spectrum, now will span the entire spectrum."
   ]
  },
  {
   "cell_type": "code",
   "execution_count": 19,
   "metadata": {},
   "outputs": [
    {
     "name": "stdout",
     "output_type": "stream",
     "text": [
      "<class 'numpy.ndarray'> (5, 8)\n"
     ]
    },
    {
     "data": {
      "text/plain": [
       "<matplotlib.image.AxesImage at 0x7fd5d2c91080>"
      ]
     },
     "execution_count": 19,
     "metadata": {},
     "output_type": "execute_result"
    },
    {
     "data": {
      "image/png": "iVBORw0KGgoAAAANSUhEUgAAATIAAADNCAYAAAA7dfy9AAAABHNCSVQICAgIfAhkiAAAAAlwSFlzAAALEgAACxIB0t1+/AAAADh0RVh0U29mdHdhcmUAbWF0cGxvdGxpYiB2ZXJzaW9uMy4xLjIsIGh0dHA6Ly9tYXRwbG90bGliLm9yZy8li6FKAAAKxElEQVR4nO3d0Yud9Z3H8c8nkwRdmzWMkUUyoXpRxOKFliHL4lIWa0qsontppL1YCllwXZQWxK4XS/+B0ptlIai7LnWVtjYgwd3uaC1dcWudRGMbo+KKxYi7sQxqEjTB5LMXczxMbeJ5znie+Z3v+n7B4MxxeObDJHnnOc85OeMkAoDK1rUeAACfFiEDUB4hA1AeIQNQHiEDUN76Pg46Ozububm5Pg49tpmZmdYThl544YXWE4bWr+/ll35s07JDkq644orWE4am6dkEp0+fbj1h6ODBg79LcvHHb+/ld9Hc3Jz27dvXx6HHtnnz5tYThrZt29Z6wtC0fF+2bNnSesLQ4uJi6wlDJ0+ebD1h6MSJE60nDF100UW/Pdvt3LUEUB4hA1AeIQNQHiEDUB4hA1AeIQNQHiEDUB4hA1AeIQNQHiEDUB4hA1AeIQNQHiEDUF6nkNneaftl26/avrvvUQAwjpEhsz0j6R8kXS/pi5J22f5i38MAoKsuZ2TbJb2a5LUkpyQ9LOnmfmcBQHddQrZV0hsrPj4yuO332N5te9H24tLS0qT2AcBIE7vYn2RPkvkk87Ozs5M6LACM1CVkb0pa+RrNc4PbAGAqdAnZs5K+YPsy2xsl3SLp0X5nAUB3I3/4SJIPbd8u6aeSZiTdn+RQ78sAoKNOP0UpyWOSHut5CwCsCs/sB1AeIQNQHiEDUB4hA1AeIQNQHiEDUB4hA1AeIQNQHiEDUB4hA1AeIQNQXqd/a7ka69ZNRyNtt54wdM8997SeMHTzzdPxIr8LCwutJwydOXOm9YShjRs3tp4wdPLkydYTRpqO2gDAp0DIAJRHyACUR8gAlEfIAJRHyACUR8gAlEfIAJRHyACUR8gAlEfIAJRHyACUR8gAlEfIAJQ3MmS277d91PZv1mIQAIyryxnZP0va2fMOAFi1kSFL8gtJS2uwBQBWZWLXyGzvtr1oe3Fpie4BWDsTC1mSPUnmk8zPzs5O6rAAMBKPWgIoj5ABKK/L0y8ekvRfki63fcT2N/ufBQDdjfxxcEl2rcUQAFgt7loCKI+QASiPkAEoj5ABKI+QASiPkAEoj5ABKI+QASiPkAEoj5ABKI+QAShv5L+1XK0kfR16LNddd13rCUNbt25tPWHotttuaz1BkvTKK6+0njB07Nix1hOGNm3a1HrC0LT8Wf4knJEBKI+QASiPkAEoj5ABKI+QASiPkAEoj5ABKI+QASiPkAEoj5ABKI+QASiPkAEoj5ABKG9kyGxvs/2k7RdtH7J9x1oMA4CuuryMz4eSvp3kgO1NkvbbXkjyYs/bAKCTkWdkSd5KcmDw/jFJhyVNzwtrAfjMG+same1LJV0t6Zk+xgDAanQOme3PSXpE0p1J3jvL/99te9H24tLS0iQ3AsAn6hQy2xu0HLEHk/zkbJ+TZE+S+STzs7Ozk9wIAJ+oy6OWlnSfpMNJvtf/JAAYT5czsmskfUPStbafH7x9reddANDZyKdfJHlKktdgCwCsCs/sB1AeIQNQHiEDUB4hA1AeIQNQHiEDUB4hA1AeIQNQHiEDUB4hA1AeIQNQHiEDUF6X1+wfWxKdOnWqj0OPbd266Wn13r17W08Yevrpp1tPkCTdeuutrScMPfHEE60nDO3YsaP1hKH333+/9YSRpudPOQCsEiEDUB4hA1AeIQNQHiEDUB4hA1AeIQNQHiEDUB4hA1AeIQNQHiEDUB4hA1AeIQNQ3siQ2T7P9q9sH7R9yPZ312IYAHTV5WV8Tkq6Nslx2xskPWX735L8sudtANDJyJAliaTjgw83DN7S5ygAGEena2S2Z2w/L+mopIUkz5zlc3bbXrS9uLS0NOmdAHBOnUKW5HSSqyTNSdpu+8qzfM6eJPNJ5mdnZye9EwDOaaxHLZO8I+lJSTv7mQMA4+vyqOXFtjcP3j9f0g5JL/U9DAC66vKo5SWSHrA9o+Xw/TDJvn5nAUB3XR61fEHS1WuwBQBWhWf2AyiPkAEoj5ABKI+QASiPkAEoj5ABKI+QASiPkAEoj5ABKI+QASiPkAEoj5ABKK/Lq1+M7YMPPtDhw4f7OPTYtm/f3nrC0PKrhk+HhYWF1hMkSY8//njrCUO7du1qPWFofn6+9YShEydOtJ4wEmdkAMojZADKI2QAyiNkAMojZADKI2QAyiNkAMojZADKI2QAyiNkAMojZADKI2QAyiNkAMrrHDLbM7afs72vz0EAMK5xzsjukDQdr80DACt0CpntOUk3SLq33zkAML6uZ2Tfl3SXpDPn+gTbu20v2l589913JzIOALoYGTLbN0o6mmT/J31ekj1J5pPMX3jhhRMbCACjdDkju0bSTbZfl/SwpGtt/6DXVQAwhpEhS/KdJHNJLpV0i6SfJfl678sAoCOeRwagvLF+ilKSn0v6eS9LAGCVOCMDUB4hA1AeIQNQHiEDUB4hA1AeIQNQHiEDUB4hA1AeIQNQHiEDUB4hA1AeIQNQnpNM/qD225J++ykPs0XS7yYwZxLYcnZs+UPTskP6/7nl80ku/viNvYRsEmwvJplvvUNiy7mwZXp3SJ+tLdy1BFAeIQNQ3jSHbE/rASuw5ezY8oemZYf0GdoytdfIAKCraT4jA4BOCBmA8qYyZLZ32n7Z9qu27264437bR23/ptWGwY5ttp+0/aLtQ7bvaLjlPNu/sn1wsOW7rbas2DRj+znb+xrveN32r20/b3ux8ZbNtn9s+yXbh23/WaMdlw++Hx+9vWf7zol/nWm7RmZ7RtIrknZIOiLpWUm7krzYYMuXJR2X9C9Jrlzrr79ixyWSLklywPYmSfsl/WWj74klXZDkuO0Nkp6SdEeSX671lhWbviVpXtIfJ7mx4Y7XJc0naf4kVNsPSPrPJPfa3ijpj5K803jTjKQ3Jf1pkk/7hPnfM41nZNslvZrktSSntPzTzW9uMSTJLyQttfjaH9vxVpIDg/ePSTosaWujLUlyfPDhhsFbs78Nbc9JukHSva02TBvbF0r6sqT7JCnJqdYRG/iKpP+edMSk6QzZVklvrPj4iBr9oZ1Gti+VdLWkZxpumLH9vKSjkhaSNNsi6fuS7pJ0puGGj0TSf9jeb3t3wx2XSXpb0j8N7nLfa/uChns+coukh/o48DSGDOdg+3OSHpF0Z5L3Wu1IcjrJVZLmJG233eRut+0bJR1Nsr/F1z+LP0/yJUnXS/qbwaWJFtZL+pKkf0xytaQTkppda5akwd3bmyT9qI/jT2PI3pS0bcXHc4PbPtMG16MekfRgkp+03iNJg7srT0ra2WjCNZJuGlybeljStbZ/0GiLkrw5+O9RSXu1fJmkhSOSjqw4U/6xlsPW0vWSDiT53z4OPo0he1bSF2xfNqj4LZIebbypqcEF9vskHU7yvcZbLra9efD++Vp+UOalFluSfCfJXJJLtfz75GdJvt5ii+0LBg/EaHA37quSmjzaneR/JL1h+/LBTV+RtOYPDH3MLvV0t1JaPgWdKkk+tH27pJ9KmpF0f5JDLbbYfkjSX0jaYvuIpL9Pcl+DKddI+oakXw+uTUnS3yV5rMGWSyQ9MHgEap2kHyZp+rSHKfEnkvYu/52j9ZL+Ncm/N9zzt5IeHJwMvCbpr1oNGYR9h6S/7u1rTNvTLwBgXNN41xIAxkLIAJRHyACUR8gAlEfIAJRHyACUR8gAlPd/fRqvYsm7P9cAAAAASUVORK5CYII=\n",
      "text/plain": [
       "<Figure size 360x360 with 1 Axes>"
      ]
     },
     "metadata": {
      "needs_background": "light"
     },
     "output_type": "display_data"
    }
   ],
   "source": [
    "orig_image = cv2.imread(\"./inp.jpg\")\n",
    "\n",
    "# convert the image to gayscale\n",
    "orig_image = cv2.cvtColor(orig_image, cv2.COLOR_BGR2GRAY)\n",
    "\n",
    "# resizing image to 5 x 8\n",
    "orig_image = cv2.resize(orig_image, (8,5))\n",
    "print(type(orig_image), orig_image.shape)\n",
    "plt.figure(figsize=FIG_SIZE)\n",
    "plt.imshow(orig_image, cmap=\"gray\")"
   ]
  },
  {
   "cell_type": "code",
   "execution_count": 20,
   "metadata": {},
   "outputs": [
    {
     "data": {
      "text/plain": [
       "<matplotlib.image.AxesImage at 0x7fd5e01d4c88>"
      ]
     },
     "execution_count": 20,
     "metadata": {},
     "output_type": "execute_result"
    },
    {
     "data": {
      "image/png": "iVBORw0KGgoAAAANSUhEUgAAATIAAADNCAYAAAA7dfy9AAAABHNCSVQICAgIfAhkiAAAAAlwSFlzAAALEgAACxIB0t1