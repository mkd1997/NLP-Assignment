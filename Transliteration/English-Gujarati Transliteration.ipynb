{
 "cells": [
  {
   "cell_type": "markdown",
   "metadata": {},
   "source": [
    "This is a transliteration scheme designed by me for tranliterating English text to Gujarati text."
   ]
  },
  {
   "cell_type": "code",
   "execution_count": 401,
   "metadata": {},
   "outputs": [],
   "source": [
    "consonant_list = ['M', 'N', 'V', 'T', 'S', 'R', 'Y', 'D', 'L']\n",
    "vowel_list = ['A', 'E', 'I', 'O', 'U', 'H']\n",
    "\n",
    "half_letter = '\\u0ACD'\n",
    "\n",
    "consonant_map = {\n",
    "    'M':'\\u0AAE',\n",
    "    'N':'\\u0AA8',\n",
    "    'V':'\\u0AB5',    \n",
    "    'T':'\\u0AA4',\n",
    "    'S':'\\u0AB8',\n",
    "    'R':'\\u0AB0',\n",
    "    'Y':'\\u0AAF',\n",
    "    'D':'\\u0AA6',\n",
    "    'L':'\\u0AB2'\n",
    "}\n",
    "\n",
    "independent_vowel_map = {\n",
    "    'A':'\\u0A85',\n",
    "    'AA':'\\u0A86',\n",
    "    'I':'\\u0A87',\n",
    "    'II':'\\u0A88',\n",
    "    'U':'\\u0A89',\n",
    "    'UU':'\\u0A8A',\n",
    "    'H':'\\u0AB9',\n",
    "    'E':'\\u0A8F',\n",
    "    'O':'\\u0A91'\n",
    "}\n",
    "\n",
    "dependent_vowel_map = {\n",
    "    '\\u0A85':'',\n",
    "    '\\u0A86':'\\u0ABE',\n",
    "    '\\u0A87':'\\u0ABF',\n",
    "    '\\u0A88':'\\u0AC0',\n",
    "    '\\u0A89':'\\u0AC1',\n",
    "    '\\u0A9A':'\\u0AC2',\n",
    "    '\\u0A8F':'\\u0AC7',\n",
    "    '\\u0A91':'\\u0ACB'\n",
    "}"
   ]
  },
  {
   "cell_type": "code",
   "execution_count": 402,
   "metadata": {},
   "outputs": [],
   "source": [
    "def check_h_sound(transliterated_word):    \n",
    "    i = 1\n",
    "    while(i < len(transliterated_word)):\n",
    "#         print(list(transliterated_word))\n",
    "        if transliterated_word[i] == '\\u0AB9': # H\n",
    "            \n",
    "            prefix = transliterated_word[:(i - 1)]            \n",
    "            suffix = transliterated_word[(i + 1):]\n",
    "            \n",
    "            if(transliterated_word[i - 1] == '\\u0AB8'):\n",
    "                middle = '\\u0AB6'\n",
    "            else:\n",
    "                middle = chr(ord(transliterated_word[i - 1]) + 1)\n",
    "            \n",
    "            transliterated_word = prefix + middle + suffix\n",
    "            word_len = len(transliterated_word)\n",
    "            i = i - 1\n",
    "        i = i + 1\n",
    "    return transliterated_word"
   ]
  },
  {
   "cell_type": "code",
   "execution_count": 403,
   "metadata": {},
   "outputs": [],
   "source": [
    "def insert_half_letters(transliterated_word):\n",
    "    i = 1\n",
    "    while(i < len(transliterated_word)):\n",
    "#         print('1', transliterated_word)\n",
    "        curr_unicode = ord(transliterated_word[i])\n",
    "        prev_unicode = ord(transliterated_word[i - 1])\n",
    "#         print(transliterated_word, chr(curr_unicode), chr(prev_unicode), end = \" \")\n",
    "        if(((curr_unicode >= 0x0A95) and (curr_unicode <= 0x0AB9)) and ((prev_unicode >= 0x0A95) and (prev_unicode <= 0x0AB9))):\n",
    "            prefix = transliterated_word[:(i - 1)]\n",
    "            suffix = transliterated_word[(i + 1):]\n",
    "            middle = transliterated_word[i - 1] + half_letter + transliterated_word[i]\n",
    "#             print('2', prefix + middle + suffix)\n",
    "            \n",
    "            transliterated_word = prefix + middle + suffix\n",
    "#             print('3', list(transliterated_word), transliterated_word)\n",
    "#             print(prefix, middle, suffix)\n",
    "            i = i + 2\n",
    "        i = i + 1\n",
    "#     print('5', transliterated_word)\n",
    "#     print('8')\n",
    "#     for letter in transliterated_word:\n",
    "#         print(hex(ord(letter)), letter)\n",
    "#     print('8')\n",
    "    return transliterated_word"
   ]
  },
  {
   "cell_type": "code",
   "execution_count": 404,
   "metadata": {},
   "outputs": [],
   "source": [
    "def update_maatras(transliterated_word):\n",
    "    i = 1\n",
    "    while(i < len(transliterated_word)):\n",
    "#         print(list(transliterated_word))\n",
    "        if(transliterated_word[i] in independent_vowel_map.values()):\n",
    "            if(transliterated_word[i - 1] == transliterated_word[i]):\n",
    "                \n",
    "                prefix = transliterated_word[:(i - 1)]\n",
    "                suffix = transliterated_word[(i + 1):]\n",
    "                middle = chr(ord(transliterated_word[i]) + 1)\n",
    "                \n",
    "                transliterated_word = prefix + middle + suffix\n",
    "                i = i - 1\n",
    "        i = i + 1\n",
    "    return transliterated_word"
   ]
  },
  {
   "cell_type": "code",
   "execution_count": 405,
   "metadata": {},
   "outputs": [],
   "source": [
    "def convert_to_dependent_vowels(transliterated_word):\n",
    "    i = 1\n",
    "    while(i < len(transliterated_word)):\n",
    "#         print('9', list(transliterated_word), i, hex(ord(transliterated_word[i])))\n",
    "        if(transliterated_word[i] in independent_vowel_map.values()):\n",
    "#             print('10', hex(ord(transliterated_word[i])))\n",
    "            prefix = transliterated_word[:i]\n",
    "            suffix = transliterated_word[(i + 1):]\n",
    "            middle = dependent_vowel_map.get(transliterated_word[i])\n",
    "            \n",
    "            transliterated_word = prefix + middle + suffix\n",
    "        i = i + 1\n",
    "    return transliterated_word"
   ]
  },
  {
   "cell_type": "code",
   "execution_count": 406,
   "metadata": {},
   "outputs": [
    {
     "name": "stdout",
     "output_type": "stream",
     "text": [
      "4 MAANAV માનવ\n",
      "4 MAANATH માનથ\n",
      "4 MAANYATAA માન્યતા\n",
      "4 SHRIIYAA શ્રીયા\n",
      "4 DHRUVIN ધ્રુવિન\n",
      "4 DEVAANS દેવાન્સ\n",
      "4 VATSAL વત્સલ\n",
      "4 SORI સોરિ\n"
     ]
    }
   ],
   "source": [
    "english_word_list = ['mAAnAv', 'maanath', 'maanyataa', 'shriiyaa', 'dhruvin', 'devAans', 'vatsal', 'SORI']\n",
    "# english_word_list = ['maanyataa']\n",
    "\n",
    "# initiaize transliterated word list\n",
    "gujarati_words = []\n",
    "\n",
    "# loop through the words\n",
    "for eng_word in english_word_list:\n",
    "    eng_word = eng_word.upper()\n",
    "    \n",
    "    # drop e if it occurs at the end\n",
    "    if ('E' == eng_word[len(eng_word) - 1]):\n",
    "        eng_word = eng_word[:-1]\n",
    "        \n",
    "    # TODO: drop all silent characters\n",
    "    transliterated_word = ''    \n",
    "    # get consonant and independent vowel representation of word\n",
    "    try:\n",
    "        for letter in list(eng_word):        \n",
    "            if letter in consonant_list:\n",
    "                transliterated_word += consonant_map.get(letter)\n",
    "            else:\n",
    "                transliterated_word += independent_vowel_map.get(letter)\n",
    "    \n",
    "    except TypeError:\n",
    "        print(letter)\n",
    "        break\n",
    "\n",
    "    # update consonants with h sound\n",
    "    transliterated_word = check_h_sound(transliterated_word)\n",
    "    # print(transliterated_word)\n",
    "    \n",
    "    # handle half letters\n",
    "    transliterated_word = insert_half_letters(transliterated_word)\n",
    "#     print('6', transliterated_word)\n",
    "#     print('7')\n",
    "#     for letter in transliterated_word:\n",
    "#         print(hex(ord(letter)), letter)\n",
    "#     print('7')\n",
    "    # update maatras\n",
    "    transliterated_word = update_maatras(transliterated_word)\n",
    "    \n",
    "    # convert to dependent vowels\n",
    "    transliterated_word = convert_to_dependent_vowels(transliterated_word)\n",
    "    \n",
    "    # handle half letters\n",
    "#     translitersted_word = insert_half_letters(transliterated_word)    \n",
    "    \n",
    "    print('4', eng_word, transliterated_word)\n",
    "        "
   ]
  },
  {
   "cell_type": "code",
   "execution_count": 407,
   "metadata": {},
   "outputs": [
    {
     "name": "stdout",
     "output_type": "stream",
     "text": [
      "['શ', '્', 'ર', 'િ', 'ય', 'ા']\n"
     ]
    }
   ],
   "source": [
    "word = '\\u0AB6' + '\\u0ACD' + '\\u0AB0' + '\\u0ABF' + '\\u0AAF' + '\\u0ABE'\n",
    "print(list(word))"
   ]
  },
  {
   "cell_type": "code",
   "execution_count": 408,
   "metadata": {},
   "outputs": [
    {
     "data": {
      "text/plain": [
       "''"
      ]
     },
     "execution_count": 408,
     "metadata": {},
     "output_type": "execute_result"
    }
   ],
   "source": [
    "word = 'made'\n",
    "word = word[len(word) - 1]\n",
    "word[:0]"
   ]
  },
  {
   "cell_type": "code",
   "execution_count": 409,
   "metadata": {},
   "outputs": [
    {
     "data": {
      "text/plain": [
       "'થ'"
      ]
     },
     "execution_count": 409,
     "metadata": {},
     "output_type": "execute_result"
    }
   ],
   "source": [
    "letter = '\\u0aa4'\n",
    "letter = chr(ord(letter) + 1)\n",
    "letter"
   ]
  },
  {
   "cell_type": "code",
   "execution_count": 410,
   "metadata": {},
   "outputs": [
    {
     "name": "stdout",
     "output_type": "stream",
     "text": [
      "2728\n",
      "2765\n",
      "2735\n"
     ]
    },
    {
     "data": {
      "text/plain": [
       "'ન્ય'"
      ]
     },
     "execution_count": 410,
     "metadata": {},
     "output_type": "execute_result"
    }
   ],
   "source": [
    "word = '\\u0AA8' + half_letter + '\\u0AAF'\n",
    "for letter in list(word):\n",
    "    print(ord(letter))\n",
    "word"
   ]
  },
  {
   "cell_type": "code",
   "execution_count": 411,
   "metadata": {},
   "outputs": [
    {
     "data": {
      "text/plain": [
       "2742"
      ]
     },
     "execution_count": 411,
     "metadata": {},
     "output_type": "execute_result"
    }
   ],
   "source": [
    "x = 0x0AB6\n",
    "x"
   ]
  },
  {
   "cell_type": "code",
   "execution_count": 412,
   "metadata": {},
   "outputs": [
    {
     "data": {
      "text/plain": [
       "'માન્યતા'"
      ]
     },
     "execution_count": 412,
     "metadata": {},
     "output_type": "execute_result"
    }
   ],
   "source": [
    "word = '\\u0aae' + '\\u0abe' + '\\u0aa8' + '\\u0acd' + '\\u0aaf' + '' + '\\u0aa4' + '\\u0abe'\n",
    "list(word)\n",
    "word"
   ]
  },
  {
   "cell_type": "code",
   "execution_count": null,
   "metadata": {},
   "outputs": [],
   "source": []
  }
 ],
 "metadata": {
  "kernelspec": {
   "display_name": "Python 3",
   "language": "python",
   "name": "python3"
  },
  "language_info": {
   "codemirror_mode": {
    "name": "ipython",
    "version": 3
   },
   "file_extension": ".py",
   "mimetype": "text/x-python",
   "name": "python",
   "nbconvert_exporter": "python",
   "pygments_lexer": "ipython3",
   "version": "3.6.9"
  }
 },
 "nbformat": 4,
 "nbformat_minor": 2
}
